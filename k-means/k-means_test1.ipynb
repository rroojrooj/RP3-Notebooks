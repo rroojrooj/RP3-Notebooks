{
 "cells": [
  {
   "cell_type": "code",
   "execution_count": null,
   "metadata": {},
   "outputs": [],
   "source": []
  },
  {
   "cell_type": "code",
   "execution_count": null,
   "metadata": {},
   "outputs": [],
   "source": [
    "# %%\n",
    "# Import necessary libraries\n",
    "import pandas as pd\n",
    "import numpy as np\n",
    "from sklearn.preprocessing import StandardScaler\n",
    "from sklearn.decomposition import PCA\n",
    "from sklearn.cluster import KMeans\n",
    "from sklearn.metrics import silhouette_score\n",
    "import matplotlib.pyplot as plt\n",
    "import seaborn as sns\n",
    "from mpl_toolkits.mplot3d import Axes3D  # Necessary for 3D plotting\n"
   ]
  },
  {
   "cell_type": "code",
   "execution_count": 25,
   "metadata": {},
   "outputs": [
    {
     "name": "stdout",
     "output_type": "stream",
     "text": [
      "   Dst Port  Protocol            Timestamp  Flow Duration  Tot Fwd Pkts  \\\n",
      "0         0         0  15/02/2018 08:25:18      112641158             3   \n",
      "1        22         6  15/02/2018 08:29:05       37366762            14   \n",
      "2     47514         6  15/02/2018 08:29:42            543             2   \n",
      "3         0         0  15/02/2018 08:28:07      112640703             3   \n",
      "4         0         0  15/02/2018 08:30:56      112640874             3   \n",
      "\n",
      "   Tot Bwd Pkts  TotLen Fwd Pkts  TotLen Bwd Pkts  Fwd Pkt Len Max  \\\n",
      "0             0                0                0                0   \n",
      "1            12             2168             2993              712   \n",
      "2             0               64                0               64   \n",
      "3             0                0                0                0   \n",
      "4             0                0                0                0   \n",
      "\n",
      "   Fwd Pkt Len Min  ...  Fwd Seg Size Min  Active Mean     Active Std  \\\n",
      "0                0  ...                 0          0.0       0.000000   \n",
      "1                0  ...                32    1024353.0  649038.754495   \n",
      "2                0  ...                32          0.0       0.000000   \n",
      "3                0  ...                 0          0.0       0.000000   \n",
      "4                0  ...                 0          0.0       0.000000   \n",
      "\n",
      "   Active Max  Active Min   Idle Mean      Idle Std  Idle Max  Idle Min  \\\n",
      "0           0           0  56320579.0  7.042784e+02  56321077  56320081   \n",
      "1     1601183      321569  11431221.0  3.644991e+06  15617415   8960247   \n",
      "2           0           0         0.0  0.000000e+00         0         0   \n",
      "3           0           0  56320351.5  3.669884e+02  56320611  56320092   \n",
      "4           0           0  56320437.0  7.198347e+02  56320946  56319928   \n",
      "\n",
      "    Label  \n",
      "0  Benign  \n",
      "1  Benign  \n",
      "2  Benign  \n",
      "3  Benign  \n",
      "4  Benign  \n",
      "\n",
      "[5 rows x 80 columns]\n",
      "<class 'pandas.core.frame.DataFrame'>\n",
      "RangeIndex: 1048575 entries, 0 to 1048574\n",
      "Data columns (total 80 columns):\n",
      " #   Column             Non-Null Count    Dtype  \n",
      "---  ------             --------------    -----  \n",
      " 0   Dst Port           1048575 non-null  int64  \n",
      " 1   Protocol           1048575 non-null  int64  \n",
      " 2   Timestamp          1048575 non-null  object \n",
      " 3   Flow Duration      1048575 non-null  int64  \n",
      " 4   Tot Fwd Pkts       1048575 non-null  int64  \n",
      " 5   Tot Bwd Pkts       1048575 non-null  int64  \n",
      " 6   TotLen Fwd Pkts    1048575 non-null  int64  \n",
      " 7   TotLen Bwd Pkts    1048575 non-null  int64  \n",
      " 8   Fwd Pkt Len Max    1048575 non-null  int64  \n",
      " 9   Fwd Pkt Len Min    1048575 non-null  int64  \n",
      " 10  Fwd Pkt Len Mean   1048575 non-null  float64\n",
      " 11  Fwd Pkt Len Std    1048575 non-null  float64\n",
      " 12  Bwd Pkt Len Max    1048575 non-null  int64  \n",
      " 13  Bwd Pkt Len Min    1048575 non-null  int64  \n",
      " 14  Bwd Pkt Len Mean   1048575 non-null  float64\n",
      " 15  Bwd Pkt Len Std    1048575 non-null  float64\n",
      " 16  Flow Byts/s        1043654 non-null  float64\n",
      " 17  Flow Pkts/s        1048575 non-null  float64\n",
      " 18  Flow IAT Mean      1048575 non-null  float64\n",
      " 19  Flow IAT Std       1048575 non-null  float64\n",
      " 20  Flow IAT Max       1048575 non-null  int64  \n",
      " 21  Flow IAT Min       1048575 non-null  int64  \n",
      " 22  Fwd IAT Tot        1048575 non-null  int64  \n",
      " 23  Fwd IAT Mean       1048575 non-null  float64\n",
      " 24  Fwd IAT Std        1048575 non-null  float64\n",
      " 25  Fwd IAT Max        1048575 non-null  int64  \n",
      " 26  Fwd IAT Min        1048575 non-null  int64  \n",
      " 27  Bwd IAT Tot        1048575 non-null  int64  \n",
      " 28  Bwd IAT Mean       1048575 non-null  float64\n",
      " 29  Bwd IAT Std        1048575 non-null  float64\n",
      " 30  Bwd IAT Max        1048575 non-null  int64  \n",
      " 31  Bwd IAT Min        1048575 non-null  int64  \n",
      " 32  Fwd PSH Flags      1048575 non-null  int64  \n",
      " 33  Bwd PSH Flags      1048575 non-null  int64  \n",
      " 34  Fwd URG Flags      1048575 non-null  int64  \n",
      " 35  Bwd URG Flags      1048575 non-null  int64  \n",
      " 36  Fwd Header Len     1048575 non-null  int64  \n",
      " 37  Bwd Header Len     1048575 non-null  int64  \n",
      " 38  Fwd Pkts/s         1048575 non-null  float64\n",
      " 39  Bwd Pkts/s         1048575 non-null  float64\n",
      " 40  Pkt Len Min        1048575 non-null  int64  \n",
      " 41  Pkt Len Max        1048575 non-null  int64  \n",
      " 42  Pkt Len Mean       1048575 non-null  float64\n",
      " 43  Pkt Len Std        1048575 non-null  float64\n",
      " 44  Pkt Len Var        1048575 non-null  float64\n",
      " 45  FIN Flag Cnt       1048575 non-null  int64  \n",
      " 46  SYN Flag Cnt       1048575 non-null  int64  \n",
      " 47  RST Flag Cnt       1048575 non-null  int64  \n",
      " 48  PSH Flag Cnt       1048575 non-null  int64  \n",
      " 49  ACK Flag Cnt       1048575 non-null  int64  \n",
      " 50  URG Flag Cnt       1048575 non-null  int64  \n",
      " 51  CWE Flag Count     1048575 non-null  int64  \n",
      " 52  ECE Flag Cnt       1048575 non-null  int64  \n",
      " 53  Down/Up Ratio      1048575 non-null  int64  \n",
      " 54  Pkt Size Avg       1048575 non-null  float64\n",
      " 55  Fwd Seg Size Avg   1048575 non-null  float64\n",
      " 56  Bwd Seg Size Avg   1048575 non-null  float64\n",
      " 57  Fwd Byts/b Avg     1048575 non-null  int64  \n",
      " 58  Fwd Pkts/b Avg     1048575 non-null  int64  \n",
      " 59  Fwd Blk Rate Avg   1048575 non-null  int64  \n",
      " 60  Bwd Byts/b Avg     1048575 non-null  int64  \n",
      " 61  Bwd Pkts/b Avg     1048575 non-null  int64  \n",
      " 62  Bwd Blk Rate Avg   1048575 non-null  int64  \n",
      " 63  Subflow Fwd Pkts   1048575 non-null  int64  \n",
      " 64  Subflow Fwd Byts   1048575 non-null  int64  \n",
      " 65  Subflow Bwd Pkts   1048575 non-null  int64  \n",
      " 66  Subflow Bwd Byts   1048575 non-null  int64  \n",
      " 67  Init Fwd Win Byts  1048575 non-null  int64  \n",
      " 68  Init Bwd Win Byts  1048575 non-null  int64  \n",
      " 69  Fwd Act Data Pkts  1048575 non-null  int64  \n",
      " 70  Fwd Seg Size Min   1048575 non-null  int64  \n",
      " 71  Active Mean        1048575 non-null  float64\n",
      " 72  Active Std         1048575 non-null  float64\n",
      " 73  Active Max         1048575 non-null  int64  \n",
      " 74  Active Min         1048575 non-null  int64  \n",
      " 75  Idle Mean          1048575 non-null  float64\n",
      " 76  Idle Std           1048575 non-null  float64\n",
      " 77  Idle Max           1048575 non-null  int64  \n",
      " 78  Idle Min           1048575 non-null  int64  \n",
      " 79  Label              1048575 non-null  object \n",
      "dtypes: float64(24), int64(54), object(2)\n",
      "memory usage: 640.0+ MB\n",
      "None\n",
      "Label\n",
      "Benign                   996077\n",
      "DoS attacks-GoldenEye     41508\n",
      "DoS attacks-Slowloris     10990\n",
      "Name: count, dtype: int64\n"
     ]
    }
   ],
   "source": [
    "# %%\n",
    "# Load the dataset\n",
    "data = pd.read_csv(\"/Users/rooj/Documents/RP3-Main/RP3-Data/CSE-CIC-IDS2018/DoS-Related/02-15-2018.csv\")  # Update with your dataset's path\n",
    "\n",
    "# Preview the data\n",
    "print(data.head())\n",
    "print(data.info())\n",
    "print(data['Label'].value_counts())"
   ]
  },
  {
   "cell_type": "code",
   "execution_count": 26,
   "metadata": {},
   "outputs": [
    {
     "name": "stdout",
     "output_type": "stream",
     "text": [
      "Encoded class distribution:\n",
      " Label\n",
      "0    996077\n",
      "1     41508\n",
      "2     10990\n",
      "Name: count, dtype: int64\n"
     ]
    }
   ],
   "source": [
    "# %%\n",
    "# Encode the Labels\n",
    "label_mapping = {'Benign': 0, 'DoS attacks-GoldenEye': 1, 'DoS attacks-Slowloris': 2}\n",
    "data['Label'] = data['Label'].map(label_mapping)\n",
    "\n",
    "# Filter for relevant classes\n",
    "data = data[data['Label'].isin([0, 1, 2])]\n",
    "print(\"Encoded class distribution:\\n\", data['Label'].value_counts())\n",
    "\n",
    "# %%\n",
    "# Feature Selection\n",
    "selected_features = [\n",
    "    'Flow Duration', 'Fwd Pkt Len Mean', 'Bwd Pkt Len Std', \n",
    "    'Pkt Size Avg', 'Flow IAT Mean'\n",
    "]\n",
    "X = data[selected_features]"
   ]
  },
  {
   "cell_type": "code",
   "execution_count": 27,
   "metadata": {},
   "outputs": [
    {
     "name": "stdout",
     "output_type": "stream",
     "text": [
      "Explained variance ratio: [0.45608225 0.29048504 0.1203634 ]\n"
     ]
    }
   ],
   "source": [
    "# %%\n",
    "# Handle missing values\n",
    "X = X.dropna()\n",
    "\n",
    "# Standardize the features\n",
    "scaler = StandardScaler()\n",
    "X_scaled = scaler.fit_transform(X)\n",
    "\n",
    "# %%\n",
    "# Apply PCA\n",
    "pca = PCA(n_components=3)  # of components for visualization\n",
    "X_pca = pca.fit_transform(X_scaled)\n",
    "print(f'Explained variance ratio: {pca.explained_variance_ratio_}')"
   ]
  },
  {
   "cell_type": "code",
   "execution_count": 28,
   "metadata": {},
   "outputs": [
    {
     "name": "stderr",
     "output_type": "stream",
     "text": [
      "/Users/rooj/anaconda3/lib/python3.11/site-packages/sklearn/cluster/_kmeans.py:1412: FutureWarning: The default value of `n_init` will change from 10 to 'auto' in 1.4. Set the value of `n_init` explicitly to suppress the warning\n",
      "  super()._check_params_vs_input(X, default_n_init=10)\n",
      "/Users/rooj/anaconda3/lib/python3.11/site-packages/sklearn/cluster/_kmeans.py:1412: FutureWarning: The default value of `n_init` will change from 10 to 'auto' in 1.4. Set the value of `n_init` explicitly to suppress the warning\n",
      "  super()._check_params_vs_input(X, default_n_init=10)\n",
      "/Users/rooj/anaconda3/lib/python3.11/site-packages/sklearn/cluster/_kmeans.py:1412: FutureWarning: The default value of `n_init` will change from 10 to 'auto' in 1.4. Set the value of `n_init` explicitly to suppress the warning\n",
      "  super()._check_params_vs_input(X, default_n_init=10)\n",
      "/Users/rooj/anaconda3/lib/python3.11/site-packages/sklearn/cluster/_kmeans.py:1412: FutureWarning: The default value of `n_init` will change from 10 to 'auto' in 1.4. Set the value of `n_init` explicitly to suppress the warning\n",
      "  super()._check_params_vs_input(X, default_n_init=10)\n",
      "/Users/rooj/anaconda3/lib/python3.11/site-packages/sklearn/cluster/_kmeans.py:1412: FutureWarning: The default value of `n_init` will change from 10 to 'auto' in 1.4. Set the value of `n_init` explicitly to suppress the warning\n",
      "  super()._check_params_vs_input(X, default_n_init=10)\n",
      "/Users/rooj/anaconda3/lib/python3.11/site-packages/sklearn/cluster/_kmeans.py:1412: FutureWarning: The default value of `n_init` will change from 10 to 'auto' in 1.4. Set the value of `n_init` explicitly to suppress the warning\n",
      "  super()._check_params_vs_input(X, default_n_init=10)\n",
      "/Users/rooj/anaconda3/lib/python3.11/site-packages/sklearn/cluster/_kmeans.py:1412: FutureWarning: The default value of `n_init` will change from 10 to 'auto' in 1.4. Set the value of `n_init` explicitly to suppress the warning\n",
      "  super()._check_params_vs_input(X, default_n_init=10)\n",
      "/Users/rooj/anaconda3/lib/python3.11/site-packages/sklearn/cluster/_kmeans.py:1412: FutureWarning: The default value of `n_init` will change from 10 to 'auto' in 1.4. Set the value of `n_init` explicitly to suppress the warning\n",
      "  super()._check_params_vs_input(X, default_n_init=10)\n",
      "/Users/rooj/anaconda3/lib/python3.11/site-packages/sklearn/cluster/_kmeans.py:1412: FutureWarning: The default value of `n_init` will change from 10 to 'auto' in 1.4. Set the value of `n_init` explicitly to suppress the warning\n",
      "  super()._check_params_vs_input(X, default_n_init=10)\n",
      "/Users/rooj/anaconda3/lib/python3.11/site-packages/sklearn/cluster/_kmeans.py:1412: FutureWarning: The default value of `n_init` will change from 10 to 'auto' in 1.4. Set the value of `n_init` explicitly to suppress the warning\n",
      "  super()._check_params_vs_input(X, default_n_init=10)\n"
     ]
    },
    {
     "data": {
      "image/png": "[encoded data removed]",
      "text/plain": [
       "<Figure size 800x500 with 1 Axes>"
      ]
     },
     "metadata": {},
     "output_type": "display_data"
    }
   ],
   "source": [
    "# %%\n",
    "# Determine the optimal number of clusters using the Elbow Method\n",
    "wcss = []\n",
    "for i in range(1, 11):\n",
    "    kmeans = KMeans(n_clusters=i, init='k-means++', random_state=42)\n",
    "    kmeans.fit(X_pca)\n",
    "    wcss.append(kmeans.inertia_)\n",
    "\n",
    "# Plot the Elbow graph\n",
    "plt.figure(figsize=(8, 5))\n",
    "plt.plot(range(1, 11), wcss, marker='o', linestyle='--')\n",
    "plt.title('Elbow Method for Optimal K')\n",
    "plt.xlabel('Number of clusters')\n",
    "plt.ylabel('WCSS')\n",
    "plt.show()\n"
   ]
  },
  {
   "cell_type": "code",
   "execution_count": 29,
   "metadata": {},
   "outputs": [
    {
     "name": "stderr",
     "output_type": "stream",
     "text": [
      "/Users/rooj/anaconda3/lib/python3.11/site-packages/sklearn/cluster/_kmeans.py:1412: FutureWarning: The default value of `n_init` will change from 10 to 'auto' in 1.4. Set the value of `n_init` explicitly to suppress the warning\n",
      "  super()._check_params_vs_input(X, default_n_init=10)\n"
     ]
    }
   ],
   "source": [
    "# %%\n",
    "# From the Elbow plot, choose the optimal number of clusters, e.g., 3\n",
    "optimal_clusters = 5\n",
    "kmeans = KMeans(n_clusters=optimal_clusters, init='k-means++', random_state=42)\n",
    "cluster_labels = kmeans.fit_predict(X_pca)\n",
    "\n",
    "# Add cluster labels to the original data\n",
    "data['Cluster'] = cluster_labels"
   ]
  },
  {
   "cell_type": "code",
   "execution_count": 30,
   "metadata": {},
   "outputs": [
    {
     "name": "stdout",
     "output_type": "stream",
     "text": [
      "1048575\n",
      "Silhouette Score (sample of 10000): 0.6979283809214152\n"
     ]
    }
   ],
   "source": [
    "sample_size = 10000\n",
    "print(len(X_pca))\n",
    "\n",
    "# Ensure the sample size does not exceed the dataset size\n",
    "if len(X_pca) > sample_size:\n",
    "    # Randomly select a subset of indices\n",
    "    sample_indices = np.random.choice(len(X_pca), size=sample_size, replace=False)\n",
    "    X_sample = X_pca[sample_indices]\n",
    "    labels_sample = cluster_labels[sample_indices]\n",
    "else:\n",
    "    X_sample = X_pca\n",
    "    labels_sample = cluster_labels\n",
    "\n",
    "# Compute the Silhouette Score on the sample\n",
    "sil_score = silhouette_score(X_sample, labels_sample)\n",
    "print(f'Silhouette Score (sample of {len(X_sample)}): {sil_score}')"
   ]
  },
  {
   "cell_type": "code",
   "execution_count": null,
   "metadata": {},
   "outputs": [],
   "source": [
    "\n",
    "# %%\n",
    "# Assuming X_pca is your PCA-transformed data and cluster_labels are the labels from K-Means\n",
    "n_components = X_pca.shape[1]\n",
    "\n",
    "if n_components == 2:\n",
    "    # 2D Scatter Plot\n",
    "    plt.figure(figsize=(10, 7))\n",
    "    sns.scatterplot(x=X_pca[:, 0], y=X_pca[:, 1], hue=cluster_labels, palette='viridis', s=50)\n",
    "    plt.title('2D PCA: Clusters after K-Means')\n",
    "    plt.xlabel('Principal Component 1')\n",
    "    plt.ylabel('Principal Component 2')\n",
    "    plt.legend(title='Cluster')\n",
    "    plt.grid(True)\n",
    "    plt.show()\n",
    "\n",
    "elif n_components == 3:\n",
    "    # 3D Scatter Plot\n",
    "    fig = plt.figure(figsize=(12, 8))\n",
    "    ax = fig.add_subplot(111, projection='3d')\n",
    "    scatter = ax.scatter(X_pca[:, 0], X_pca[:, 1], X_pca[:, 2], c=cluster_labels, cmap='viridis', s=50)\n",
    "    ax.set_title('3D PCA: Clusters after K-Means')\n",
    "    ax.set_xlabel('Principal Component 1')\n",
    "    ax.set_ylabel('Principal Component 2')\n",
    "    ax.set_zlabel('Principal Component 3')\n",
    "    legend1 = ax.legend(*scatter.legend_elements(), title=\"Cluster\")\n",
    "    ax.add_artist(legend1)\n",
    "    plt.show()\n",
    "\n",
    "else:\n",
    "    print(f\"Visualization for {n_components} components is not supported.\")\n",
    "\n",
    "# %%\n",
    "# Analyze the composition of each cluster\n",
    "cluster_composition = data.groupby('Cluster')['Label'].value_counts(normalize=True).unstack().fillna(0)\n",
    "print(cluster_composition)\n",
    "\n",
    "# %%\n",
    "# Save the PCA and KMeans models for future use\n",
    "import joblib\n",
    "joblib.dump(pca, 'pca_model.pkl')\n",
    "joblib.dump(kmeans, 'kmeans_model.pkl')\n",
    "joblib.dump(scaler, 'scaler.pkl')\n",
    "print(\"Models saved successfully.\")"
   ]
  }
 ],
 "metadata": {
  "kernelspec": {
   "display_name": "base",
   "language": "python",
   "name": "python3"
  },
  "language_info": {
   "codemirror_mode": {
    "name": "ipython",
    "version": 3
   },
   "file_extension": ".py",
   "mimetype": "text/x-python",
   "name": "python",
   "nbconvert_exporter": "python",
   "pygments_lexer": "ipython3",
   "version": "3.11.5"
  }
 },
 "nbformat": 4,
 "nbformat_minor": 2
}
