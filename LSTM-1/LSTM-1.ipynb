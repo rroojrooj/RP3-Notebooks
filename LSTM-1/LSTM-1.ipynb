{
 "cells": [
  {
   "cell_type": "code",
   "execution_count": 40,
   "metadata": {},
   "outputs": [
    {
     "name": "stdout",
     "output_type": "stream",
     "text": [
      "Physical MPS devices: []\n",
      "Logical MPS devices: []\n",
      "Result: [[1. 3.]\n",
      " [3. 7.]]\n"
     ]
    }
   ],
   "source": [
    "# !which python\n",
    "# !pip list | grep tensorflow\n",
    "# !pip list | grep keras\n",
    "\n",
    "# import sys\n",
    "# print(\"Python executable:\", sys.executable)\n",
    "# print(\"sys.executable:\", sys.executable)\n",
    "# print(\"sys.path:\", sys.path)\n",
    "\n",
    "# import tensorflow as tf\n",
    "# from tensorflow.keras.layers import LSTM, Dense, Dropout\n",
    "# print(\"TensorFlow version:\", tf.__version__)\n",
    "# Install necessary libraries\n",
    "# %pip install tensorflow scikit-learn imbalanced-learn pandas matplotlib\n",
    "\n",
    "import tensorflow as tf\n",
    "\n",
    "# List physical and logical devices for 'MPS'\n",
    "physical_mps = tf.config.list_physical_devices('MPS')\n",
    "logical_mps = tf.config.list_logical_devices('MPS')\n",
    "print(\"Physical MPS devices:\", physical_mps)\n",
    "print(\"Logical MPS devices:\", logical_mps)\n",
    "\n",
    "import os\n",
    "# Ensure the environment variable is set BEFORE importing TensorFlow\n",
    "os.environ['TF_ENABLE_MPS_FALLBACK'] = '1'\n",
    "\n",
    "\n",
    "tf.debugging.set_log_device_placement(True)\n",
    "\n",
    "# Run a test operation\n",
    "a = tf.constant([[1.0, 2.0], [3.0, 4.0]])\n",
    "b = tf.constant([[1.0, 1.0], [0.0, 1.0]])\n",
    "c = tf.matmul(a, b)\n",
    "print(\"Result:\", c.numpy())"
   ]
  },
  {
   "cell_type": "code",
   "execution_count": 41,
   "metadata": {},
   "outputs": [
    {
     "name": "stdout",
     "output_type": "stream",
     "text": [
      "Num GPUs Available:  0\n",
      "GPUs available: []\n",
      "   Dst Port  Protocol            Timestamp  Flow Duration  Tot Fwd Pkts  \\\n",
      "0         0         0  15/02/2018 08:25:18      112641158             3   \n",
      "1        22         6  15/02/2018 08:29:05       37366762            14   \n",
      "2     47514         6  15/02/2018 08:29:42            543             2   \n",
      "3         0         0  15/02/2018 08:28:07      112640703             3   \n",
      "4         0         0  15/02/2018 08:30:56      112640874             3   \n",
      "\n",
      "   Tot Bwd Pkts  TotLen Fwd Pkts  TotLen Bwd Pkts  Fwd Pkt Len Max  \\\n",
      "0             0                0                0                0   \n",
      "1            12             2168             2993              712   \n",
      "2             0               64                0               64   \n",
      "3             0                0                0                0   \n",
      "4             0                0                0                0   \n",
      "\n",
      "   Fwd Pkt Len Min  ...  Fwd Seg Size Min  Active Mean     Active Std  \\\n",
      "0                0  ...                 0          0.0       0.000000   \n",
      "1                0  ...                32    1024353.0  649038.754495   \n",
      "2                0  ...                32          0.0       0.000000   \n",
      "3                0  ...                 0          0.0       0.000000   \n",
      "4                0  ...                 0          0.0       0.000000   \n",
      "\n",
      "   Active Max  Active Min   Idle Mean      Idle Std  Idle Max  Idle Min  \\\n",
      "0           0           0  56320579.0  7.042784e+02  56321077  56320081   \n",
      "1     1601183      321569  11431221.0  3.644991e+06  15617415   8960247   \n",
      "2           0           0         0.0  0.000000e+00         0         0   \n",
      "3           0           0  56320351.5  3.669884e+02  56320611  56320092   \n",
      "4           0           0  56320437.0  7.198347e+02  56320946  56319928   \n",
      "\n",
      "    Label  \n",
      "0  Benign  \n",
      "1  Benign  \n",
      "2  Benign  \n",
      "3  Benign  \n",
      "4  Benign  \n",
      "\n",
      "[5 rows x 80 columns]\n",
      "<class 'pandas.core.frame.DataFrame'>\n",
      "RangeIndex: 1048575 entries, 0 to 1048574\n",
      "Data columns (total 80 columns):\n",
      " #   Column             Non-Null Count    Dtype  \n",
      "---  ------             --------------    -----  \n",
      " 0   Dst Port           1048575 non-null  int64  \n",
      " 1   Protocol           1048575 non-null  int64  \n",
      " 2   Timestamp          1048575 non-null  object \n",
      " 3   Flow Duration      1048575 non-null  int64  \n",
      " 4   Tot Fwd Pkts       1048575 non-null  int64  \n",
      " 5   Tot Bwd Pkts       1048575 non-null  int64  \n",
      " 6   TotLen Fwd Pkts    1048575 non-null  int64  \n",
      " 7   TotLen Bwd Pkts    1048575 non-null  int64  \n",
      " 8   Fwd Pkt Len Max    1048575 non-null  int64  \n",
      " 9   Fwd Pkt Len Min    1048575 non-null  int64  \n",
      " 10  Fwd Pkt Len Mean   1048575 non-null  float64\n",
      " 11  Fwd Pkt Len Std    1048575 non-null  float64\n",
      " 12  Bwd Pkt Len Max    1048575 non-null  int64  \n",
      " 13  Bwd Pkt Len Min    1048575 non-null  int64  \n",
      " 14  Bwd Pkt Len Mean   1048575 non-null  float64\n",
      " 15  Bwd Pkt Len Std    1048575 non-null  float64\n",
      " 16  Flow Byts/s        1043654 non-null  float64\n",
      " 17  Flow Pkts/s        1048575 non-null  float64\n",
      " 18  Flow IAT Mean      1048575 non-null  float64\n",
      " 19  Flow IAT Std       1048575 non-null  float64\n",
      " 20  Flow IAT Max       1048575 non-null  int64  \n",
      " 21  Flow IAT Min       1048575 non-null  int64  \n",
      " 22  Fwd IAT Tot        1048575 non-null  int64  \n",
      " 23  Fwd IAT Mean       1048575 non-null  float64\n",
      " 24  Fwd IAT Std        1048575 non-null  float64\n",
      " 25  Fwd IAT Max        1048575 non-null  int64  \n",
      " 26  Fwd IAT Min        1048575 non-null  int64  \n",
      " 27  Bwd IAT Tot        1048575 non-null  int64  \n",
      " 28  Bwd IAT Mean       1048575 non-null  float64\n",
      " 29  Bwd IAT Std        1048575 non-null  float64\n",
      " 30  Bwd IAT Max        1048575 non-null  int64  \n",
      " 31  Bwd IAT Min        1048575 non-null  int64  \n",
      " 32  Fwd PSH Flags      1048575 non-null  int64  \n",
      " 33  Bwd PSH Flags      1048575 non-null  int64  \n",
      " 34  Fwd URG Flags      1048575 non-null  int64  \n",
      " 35  Bwd URG Flags      1048575 non-null  int64  \n",
      " 36  Fwd Header Len     1048575 non-null  int64  \n",
      " 37  Bwd Header Len     1048575 non-null  int64  \n",
      " 38  Fwd Pkts/s         1048575 non-null  float64\n",
      " 39  Bwd Pkts/s         1048575 non-null  float64\n",
      " 40  Pkt Len Min        1048575 non-null  int64  \n",
      " 41  Pkt Len Max        1048575 non-null  int64  \n",
      " 42  Pkt Len Mean       1048575 non-null  float64\n",
      " 43  Pkt Len Std        1048575 non-null  float64\n",
      " 44  Pkt Len Var        1048575 non-null  float64\n",
      " 45  FIN Flag Cnt       1048575 non-null  int64  \n",
      " 46  SYN Flag Cnt       1048575 non-null  int64  \n",
      " 47  RST Flag Cnt       1048575 non-null  int64  \n",
      " 48  PSH Flag Cnt       1048575 non-null  int64  \n",
      " 49  ACK Flag Cnt       1048575 non-null  int64  \n",
      " 50  URG Flag Cnt       1048575 non-null  int64  \n",
      " 51  CWE Flag Count     1048575 non-null  int64  \n",
      " 52  ECE Flag Cnt       1048575 non-null  int64  \n",
      " 53  Down/Up Ratio      1048575 non-null  int64  \n",
      " 54  Pkt Size Avg       1048575 non-null  float64\n",
      " 55  Fwd Seg Size Avg   1048575 non-null  float64\n",
      " 56  Bwd Seg Size Avg   1048575 non-null  float64\n",
      " 57  Fwd Byts/b Avg     1048575 non-null  int64  \n",
      " 58  Fwd Pkts/b Avg     1048575 non-null  int64  \n",
      " 59  Fwd Blk Rate Avg   1048575 non-null  int64  \n",
      " 60  Bwd Byts/b Avg     1048575 non-null  int64  \n",
      " 61  Bwd Pkts/b Avg     1048575 non-null  int64  \n",
      " 62  Bwd Blk Rate Avg   1048575 non-null  int64  \n",
      " 63  Subflow Fwd Pkts   1048575 non-null  int64  \n",
      " 64  Subflow Fwd Byts   1048575 non-null  int64  \n",
      " 65  Subflow Bwd Pkts   1048575 non-null  int64  \n",
      " 66  Subflow Bwd Byts   1048575 non-null  int64  \n",
      " 67  Init Fwd Win Byts  1048575 non-null  int64  \n",
      " 68  Init Bwd Win Byts  1048575 non-null  int64  \n",
      " 69  Fwd Act Data Pkts  1048575 non-null  int64  \n",
      " 70  Fwd Seg Size Min   1048575 non-null  int64  \n",
      " 71  Active Mean        1048575 non-null  float64\n",
      " 72  Active Std         1048575 non-null  float64\n",
      " 73  Active Max         1048575 non-null  int64  \n",
      " 74  Active Min         1048575 non-null  int64  \n",
      " 75  Idle Mean          1048575 non-null  float64\n",
      " 76  Idle Std           1048575 non-null  float64\n",
      " 77  Idle Max           1048575 non-null  int64  \n",
      " 78  Idle Min           1048575 non-null  int64  \n",
      " 79  Label              1048575 non-null  object \n",
      "dtypes: float64(24), int64(54), object(2)\n",
      "memory usage: 640.0+ MB\n",
      "None\n",
      "Label\n",
      "Benign                   996077\n",
      "DoS attacks-GoldenEye     41508\n",
      "DoS attacks-Slowloris     10990\n",
      "Name: count, dtype: int64\n"
     ]
    }
   ],
   "source": [
    "# Step 1: Import necessary libraries\n",
    "import pandas as pd\n",
    "import numpy as np\n",
    "import matplotlib.pyplot as plt\n",
    "\n",
    "# For data splitting, scaling, and class weighting\n",
    "from sklearn.model_selection import train_test_split\n",
    "from sklearn.preprocessing import StandardScaler, LabelEncoder\n",
    "from sklearn.utils.class_weight import compute_class_weight\n",
    "\n",
    "# For oversampling\n",
    "from imblearn.over_sampling import SMOTE\n",
    "\n",
    "# For deep learning model (using TensorFlow/Keras)\n",
    "import tensorflow as tf\n",
    "\n",
    "import joblib\n",
    "\n",
    "# Verify GPU Availability\n",
    "print(\"Num GPUs Available: \", len(tf.config.list_physical_devices('GPU')))\n",
    "print(\"GPUs available:\", tf.config.list_physical_devices('GPU'))\n",
    "\n",
    "# Configure TensorFlow to Use the GPU\n",
    "gpus = tf.config.experimental.list_physical_devices('GPU')\n",
    "if gpus:\n",
    "    try:\n",
    "        # Currently, memory growth needs to be the same across GPUs\n",
    "        for gpu in gpus:\n",
    "            tf.config.experimental.set_memory_growth(gpu, True)\n",
    "        logical_gpus = tf.config.experimental.list_logical_devices('GPU')\n",
    "        print(len(gpus), \"Physical GPUs,\", len(logical_gpus), \"Logical GPUs\")\n",
    "    except RuntimeError as e:\n",
    "        # Memory growth must be set before GPUs have been initialized\n",
    "        print(e)\n",
    "from tensorflow.keras.layers import LSTM, Dense, Dropout\n",
    "from tensorflow.keras.utils import to_categorical\n",
    "from tensorflow.keras.models import Sequential\n",
    "\n",
    "# Step 2: Load the dataset (update file path as needed)\n",
    "file_path = \"C:\\\\Users\\\\mrroo\\\\Downloads\\\\archive\\\\02-15-2018.csv\"\n",
    "df = pd.read_csv(file_path)\n",
    "# Preview the dataset\n",
    "print(df.head())\n",
    "print(df.info())\n",
    "print(df['Label'].value_counts())\n",
    "\n",
    "# Step 3: Data Cleaning (drop duplicates and missing values)\n",
    "df = df.drop_duplicates()\n",
    "df = df.dropna()\n",
    "\n",
    "# (Optional) If needed, parse the Timestamp column (not used here)\n",
    "# df['Timestamp'] = pd.to_datetime(df['Timestamp'], format='%d/%m/%Y %H:%M:%S')\n",
    "# If the data should be sorted by time:\n",
    "# df = df.sort_values('Timestamp')"
   ]
  },
  {
   "cell_type": "code",
   "execution_count": 42,
   "metadata": {},
   "outputs": [],
   "source": [
    "# Step 4: Select features and label\n",
    "features = ['Flow Duration', 'Fwd Pkt Len Mean', 'Bwd Pkt Len Std', 'Pkt Size Avg', 'Flow IAT Mean']\n",
    "X = df[features]\n",
    "y = df['Label']   # Expected values: \"Benign\", \"DDoS-GoldenEye\", \"DDoS-Slowloris\"\n",
    "\n",
    "# Step 5: Encode labels to numeric values\n",
    "le = LabelEncoder()\n",
    "y_encoded = le.fit_transform(y)  \n",
    "# Now, for example, 0: Benign, 1: DDoS-GoldenEye, 2: DDoS-Slowloris\n",
    "\n",
    "# Step 6: Scale features using StandardScaler\n",
    "scaler = StandardScaler()\n",
    "X_scaled = scaler.fit_transform(X)"
   ]
  },
  {
   "cell_type": "code",
   "execution_count": 43,
   "metadata": {},
   "outputs": [
    {
     "name": "stdout",
     "output_type": "stream",
     "text": [
      "Windowed training data shape: (832977, 10, 5)\n",
      "Windowed test data shape: (208238, 10, 5)\n"
     ]
    }
   ],
   "source": [
    "# Step 7: Split the data (time-based split to preserve temporal order)\n",
    "# Here we assume that the data is already ordered by time.\n",
    "split_index = int(0.8 * len(X_scaled))\n",
    "X_train = X_scaled[:split_index]\n",
    "X_test = X_scaled[split_index:]\n",
    "y_train = y_encoded[:split_index]\n",
    "y_test = y_encoded[split_index:]\n",
    "\n",
    "# Step 8: Time-Series Windowing\n",
    "def create_sequences(X, y, window_size):\n",
    "    Xs, ys = [], []\n",
    "    for i in range(len(X) - window_size + 1):\n",
    "        Xs.append(X[i:i+window_size])\n",
    "        ys.append(y[i+window_size-1])  # label of the last time step in the window\n",
    "    return np.array(Xs), np.array(ys)\n",
    "\n",
    "window_size = 10  # Adjust as needed\n",
    "X_train_seq, y_train_seq = create_sequences(X_train, y_train, window_size)\n",
    "X_test_seq, y_test_seq = create_sequences(X_test, y_test, window_size)\n",
    "\n",
    "print(\"Windowed training data shape:\", X_train_seq.shape)  # (num_train_samples, window_size, num_features)\n",
    "print(\"Windowed test data shape:\", X_test_seq.shape)"
   ]
  },
  {
   "cell_type": "code",
   "execution_count": 44,
   "metadata": {},
   "outputs": [
    {
     "name": "stdout",
     "output_type": "stream",
     "text": [
      "After SMOTE, training data shape: (2343711, 10, 5)\n"
     ]
    }
   ],
   "source": [
    "# Step 9: Apply SMOTE on the training set\n",
    "# SMOTE requires 2D data, so reshape the windowed training data:\n",
    "num_train_samples, win_size, n_features = X_train_seq.shape\n",
    "X_train_seq_2d = X_train_seq.reshape(num_train_samples, win_size * n_features)\n",
    "\n",
    "# Apply SMOTE (only on training data)\n",
    "sm = SMOTE(random_state=42)\n",
    "X_train_res_2d, y_train_res = sm.fit_resample(X_train_seq_2d, y_train_seq)\n",
    "\n",
    "# Reshape back to 3D for LSTM input:\n",
    "X_train_res = X_train_res_2d.reshape(-1, win_size, n_features)\n",
    "print(\"After SMOTE, training data shape:\", X_train_res.shape)"
   ]
  },
  {
   "cell_type": "code",
   "execution_count": 45,
   "metadata": {},
   "outputs": [
    {
     "name": "stdout",
     "output_type": "stream",
     "text": [
      "Class weights: {np.int64(0): np.float64(1.0), np.int64(1): np.float64(1.0), np.int64(2): np.float64(1.0)}\n",
      "Number of classes: 3\n"
     ]
    }
   ],
   "source": [
    "# Step 10: Compute class weights using the SMOTE-adjusted training labels\n",
    "classes = np.unique(y_train_res)\n",
    "class_weights = compute_class_weight('balanced', classes=classes, y=y_train_res)\n",
    "class_weight_dict = dict(zip(classes, class_weights))\n",
    "print(\"Class weights:\", class_weight_dict)\n",
    "\n",
    "# Step 11: Convert labels to categorical (one-hot encoding) for training and testing\n",
    "num_classes = len(classes)  # Should be 3\n",
    "print(\"Number of classes:\", num_classes)\n",
    "y_train_cat = to_categorical(y_train_res, num_classes=num_classes)\n",
    "y_test_cat = to_categorical(y_test_seq, num_classes=num_classes)\n"
   ]
  },
  {
   "cell_type": "code",
   "execution_count": 46,
   "metadata": {},
   "outputs": [
    {
     "name": "stderr",
     "output_type": "stream",
     "text": [
      "c:\\Users\\mrroo\\Documents\\GitHub\\RP3-Notebooks\\tf-gpu\\Lib\\site-packages\\keras\\src\\layers\\rnn\\rnn.py:200: UserWarning: Do not pass an `input_shape`/`input_dim` argument to a layer. When using Sequential models, prefer using an `Input(shape)` object as the first layer in the model instead.\n",
      "  super().__init__(**kwargs)\n"
     ]
    },
    {
     "data": {
      "text/html": [
       "<pre style=\"white-space:pre;overflow-x:auto;line-height:normal;font-family:Menlo,'DejaVu Sans Mono',consolas,'Courier New',monospace\"><span style=\"font-weight: bold\">Model: \"sequential_3\"</span>\n",
       "</pre>\n"
      ],
      "text/plain": [
       "\u001b[1mModel: \"sequential_3\"\u001b[0m\n"
      ]
     },
     "metadata": {},
     "output_type": "display_data"
    },
    {
     "data": {
      "text/html": [
       "<pre style=\"white-space:pre;overflow-x:auto;line-height:normal;font-family:Menlo,'DejaVu Sans Mono',consolas,'Courier New',monospace\">┏━━━━━━━━━━━━━━━━━━━━━━━━━━━━━━━━━┳━━━━━━━━━━━━━━━━━━━━━━━━┳━━━━━━━━━━━━━━━┓\n",
       "┃<span style=\"font-weight: bold\"> Layer (type)                    </span>┃<span style=\"font-weight: bold\"> Output Shape           </span>┃<span style=\"font-weight: bold\">       Param # </span>┃\n",
       "┡━━━━━━━━━━━━━━━━━━━━━━━━━━━━━━━━━╇━━━━━━━━━━━━━━━━━━━━━━━━╇━━━━━━━━━━━━━━━┩\n",
       "│ lstm_6 (<span style=\"color: #0087ff; text-decoration-color: #0087ff\">LSTM</span>)                   │ (<span style=\"color: #00d7ff; text-decoration-color: #00d7ff\">None</span>, <span style=\"color: #00af00; text-decoration-color: #00af00\">10</span>, <span style=\"color: #00af00; text-decoration-color: #00af00\">64</span>)         │        <span style=\"color: #00af00; text-decoration-color: #00af00\">17,920</span> │\n",
       "├─────────────────────────────────┼────────────────────────┼───────────────┤\n",
       "│ dropout_3 (<span style=\"color: #0087ff; text-decoration-color: #0087ff\">Dropout</span>)             │ (<span style=\"color: #00d7ff; text-decoration-color: #00d7ff\">None</span>, <span style=\"color: #00af00; text-decoration-color: #00af00\">10</span>, <span style=\"color: #00af00; text-decoration-color: #00af00\">64</span>)         │             <span style=\"color: #00af00; text-decoration-color: #00af00\">0</span> │\n",
       "├─────────────────────────────────┼────────────────────────┼───────────────┤\n",
       "│ lstm_7 (<span style=\"color: #0087ff; text-decoration-color: #0087ff\">LSTM</span>)                   │ (<span style=\"color: #00d7ff; text-decoration-color: #00d7ff\">None</span>, <span style=\"color: #00af00; text-decoration-color: #00af00\">32</span>)             │        <span style=\"color: #00af00; text-decoration-color: #00af00\">12,416</span> │\n",
       "├─────────────────────────────────┼────────────────────────┼───────────────┤\n",
       "│ dense_6 (<span style=\"color: #0087ff; text-decoration-color: #0087ff\">Dense</span>)                 │ (<span style=\"color: #00d7ff; text-decoration-color: #00d7ff\">None</span>, <span style=\"color: #00af00; text-decoration-color: #00af00\">16</span>)             │           <span style=\"color: #00af00; text-decoration-color: #00af00\">528</span> │\n",
       "├─────────────────────────────────┼────────────────────────┼───────────────┤\n",
       "│ dense_7 (<span style=\"color: #0087ff; text-decoration-color: #0087ff\">Dense</span>)                 │ (<span style=\"color: #00d7ff; text-decoration-color: #00d7ff\">None</span>, <span style=\"color: #00af00; text-decoration-color: #00af00\">3</span>)              │            <span style=\"color: #00af00; text-decoration-color: #00af00\">51</span> │\n",
       "└─────────────────────────────────┴────────────────────────┴───────────────┘\n",
       "</pre>\n"
      ],
      "text/plain": [
       "┏━━━━━━━━━━━━━━━━━━━━━━━━━━━━━━━━━┳━━━━━━━━━━━━━━━━━━━━━━━━┳━━━━━━━━━━━━━━━┓\n",
       "┃\u001b[1m \u001b[0m\u001b[1mLayer (type)                   \u001b[0m\u001b[1m \u001b[0m┃\u001b[1m \u001b[0m\u001b[1mOutput Shape          \u001b[0m\u001b[1m \u001b[0m┃\u001b[1m \u001b[0m\u001b[1m      Param #\u001b[0m\u001b[1m \u001b[0m┃\n",
       "┡━━━━━━━━━━━━━━━━━━━━━━━━━━━━━━━━━╇━━━━━━━━━━━━━━━━━━━━━━━━╇━━━━━━━━━━━━━━━┩\n",
       "│ lstm_6 (\u001b[38;5;33mLSTM\u001b[0m)                   │ (\u001b[38;5;45mNone\u001b[0m, \u001b[38;5;34m10\u001b[0m, \u001b[38;5;34m64\u001b[0m)         │        \u001b[38;5;34m17,920\u001b[0m │\n",
       "├─────────────────────────────────┼────────────────────────┼───────────────┤\n",
       "│ dropout_3 (\u001b[38;5;33mDropout\u001b[0m)             │ (\u001b[38;5;45mNone\u001b[0m, \u001b[38;5;34m10\u001b[0m, \u001b[38;5;34m64\u001b[0m)         │             \u001b[38;5;34m0\u001b[0m │\n",
       "├─────────────────────────────────┼────────────────────────┼───────────────┤\n",
       "│ lstm_7 (\u001b[38;5;33mLSTM\u001b[0m)                   │ (\u001b[38;5;45mNone\u001b[0m, \u001b[38;5;34m32\u001b[0m)             │        \u001b[38;5;34m12,416\u001b[0m │\n",
       "├─────────────────────────────────┼────────────────────────┼───────────────┤\n",
       "│ dense_6 (\u001b[38;5;33mDense\u001b[0m)                 │ (\u001b[38;5;45mNone\u001b[0m, \u001b[38;5;34m16\u001b[0m)             │           \u001b[38;5;34m528\u001b[0m │\n",
       "├─────────────────────────────────┼────────────────────────┼───────────────┤\n",
       "│ dense_7 (\u001b[38;5;33mDense\u001b[0m)                 │ (\u001b[38;5;45mNone\u001b[0m, \u001b[38;5;34m3\u001b[0m)              │            \u001b[38;5;34m51\u001b[0m │\n",
       "└─────────────────────────────────┴────────────────────────┴───────────────┘\n"
      ]
     },
     "metadata": {},
     "output_type": "display_data"
    },
    {
     "data": {
      "text/html": [
       "<pre style=\"white-space:pre;overflow-x:auto;line-height:normal;font-family:Menlo,'DejaVu Sans Mono',consolas,'Courier New',monospace\"><span style=\"font-weight: bold\"> Total params: </span><span style=\"color: #00af00; text-decoration-color: #00af00\">30,915</span> (120.76 KB)\n",
       "</pre>\n"
      ],
      "text/plain": [
       "\u001b[1m Total params: \u001b[0m\u001b[38;5;34m30,915\u001b[0m (120.76 KB)\n"
      ]
     },
     "metadata": {},
     "output_type": "display_data"
    },
    {
     "data": {
      "text/html": [
       "<pre style=\"white-space:pre;overflow-x:auto;line-height:normal;font-family:Menlo,'DejaVu Sans Mono',consolas,'Courier New',monospace\"><span style=\"font-weight: bold\"> Trainable params: </span><span style=\"color: #00af00; text-decoration-color: #00af00\">30,915</span> (120.76 KB)\n",
       "</pre>\n"
      ],
      "text/plain": [
       "\u001b[1m Trainable params: \u001b[0m\u001b[38;5;34m30,915\u001b[0m (120.76 KB)\n"
      ]
     },
     "metadata": {},
     "output_type": "display_data"
    },
    {
     "data": {
      "text/html": [
       "<pre style=\"white-space:pre;overflow-x:auto;line-height:normal;font-family:Menlo,'DejaVu Sans Mono',consolas,'Courier New',monospace\"><span style=\"font-weight: bold\"> Non-trainable params: </span><span style=\"color: #00af00; text-decoration-color: #00af00\">0</span> (0.00 B)\n",
       "</pre>\n"
      ],
      "text/plain": [
       "\u001b[1m Non-trainable params: \u001b[0m\u001b[38;5;34m0\u001b[0m (0.00 B)\n"
      ]
     },
     "metadata": {},
     "output_type": "display_data"
    }
   ],
   "source": [
    "# Step 12: Build the LSTM Model\n",
    "model = Sequential([\n",
    "    LSTM(64, return_sequences=True, input_shape=(window_size, n_features)),\n",
    "    Dropout(0.2),\n",
    "    LSTM(32),\n",
    "    Dense(16, activation='relu'),\n",
    "    Dense(num_classes, activation='softmax')\n",
    "])\n",
    "\n",
    "model.compile(optimizer='adam', loss='categorical_crossentropy', metrics=['accuracy'])\n",
    "model.summary()"
   ]
  },
  {
   "cell_type": "code",
   "execution_count": 47,
   "metadata": {},
   "outputs": [
    {
     "name": "stdout",
     "output_type": "stream",
     "text": [
      "Epoch 1/50\n",
      "\u001b[1m14649/14649\u001b[0m \u001b[32m━━━━━━━━━━━━━━━━━━━━\u001b[0m\u001b[37m\u001b[0m \u001b[1m85s\u001b[0m 6ms/step - accuracy: 0.9709 - loss: 0.0705 - val_accuracy: 0.9951 - val_loss: 0.0182\n",
      "Epoch 2/50\n",
      "\u001b[1m14649/14649\u001b[0m \u001b[32m━━━━━━━━━━━━━━━━━━━━\u001b[0m\u001b[37m\u001b[0m \u001b[1m79s\u001b[0m 5ms/step - accuracy: 0.9980 - loss: 0.0063 - val_accuracy: 0.9990 - val_loss: 0.0036\n",
      "Epoch 3/50\n",
      "\u001b[1m14649/14649\u001b[0m \u001b[32m━━━━━━━━━━━━━━━━━━━━\u001b[0m\u001b[37m\u001b[0m \u001b[1m79s\u001b[0m 5ms/step - accuracy: 0.9988 - loss: 0.0037 - val_accuracy: 0.9994 - val_loss: 0.0024\n",
      "Epoch 4/50\n",
      "\u001b[1m14649/14649\u001b[0m \u001b[32m━━━━━━━━━━━━━━━━━━━━\u001b[0m\u001b[37m\u001b[0m \u001b[1m79s\u001b[0m 5ms/step - accuracy: 0.9990 - loss: 0.0028 - val_accuracy: 0.9996 - val_loss: 0.0024\n",
      "Epoch 5/50\n",
      "\u001b[1m14649/14649\u001b[0m \u001b[32m━━━━━━━━━━━━━━━━━━━━\u001b[0m\u001b[37m\u001b[0m \u001b[1m81s\u001b[0m 6ms/step - accuracy: 0.9992 - loss: 0.0021 - val_accuracy: 0.9992 - val_loss: 0.0026\n",
      "Epoch 6/50\n",
      "\u001b[1m14649/14649\u001b[0m \u001b[32m━━━━━━━━━━━━━━━━━━━━\u001b[0m\u001b[37m\u001b[0m \u001b[1m79s\u001b[0m 5ms/step - accuracy: 0.9993 - loss: 0.0019 - val_accuracy: 0.9990 - val_loss: 0.0031\n",
      "Epoch 7/50\n",
      "\u001b[1m14649/14649\u001b[0m \u001b[32m━━━━━━━━━━━━━━━━━━━━\u001b[0m\u001b[37m\u001b[0m \u001b[1m78s\u001b[0m 5ms/step - accuracy: 0.9994 - loss: 0.0017 - val_accuracy: 0.9997 - val_loss: 0.0011\n",
      "Epoch 8/50\n",
      "\u001b[1m14649/14649\u001b[0m \u001b[32m━━━━━━━━━━━━━━━━━━━━\u001b[0m\u001b[37m\u001b[0m \u001b[1m78s\u001b[0m 5ms/step - accuracy: 0.9995 - loss: 0.0016 - val_accuracy: 0.9998 - val_loss: 8.6260e-04\n",
      "Epoch 9/50\n",
      "\u001b[1m14649/14649\u001b[0m \u001b[32m━━━━━━━━━━━━━━━━━━━━\u001b[0m\u001b[37m\u001b[0m \u001b[1m79s\u001b[0m 5ms/step - accuracy: 0.9995 - loss: 0.0014 - val_accuracy: 0.9997 - val_loss: 0.0012\n",
      "Epoch 10/50\n",
      "\u001b[1m14649/14649\u001b[0m \u001b[32m━━━━━━━━━━━━━━━━━━━━\u001b[0m\u001b[37m\u001b[0m \u001b[1m79s\u001b[0m 5ms/step - accuracy: 0.9996 - loss: 0.0012 - val_accuracy: 0.9997 - val_loss: 9.4364e-04\n",
      "Epoch 11/50\n",
      "\u001b[1m14649/14649\u001b[0m \u001b[32m━━━━━━━━━━━━━━━━━━━━\u001b[0m\u001b[37m\u001b[0m \u001b[1m79s\u001b[0m 5ms/step - accuracy: 0.9997 - loss: 0.0011 - val_accuracy: 0.9999 - val_loss: 8.8563e-04\n",
      "Epoch 12/50\n",
      "\u001b[1m14649/14649\u001b[0m \u001b[32m━━━━━━━━━━━━━━━━━━━━\u001b[0m\u001b[37m\u001b[0m \u001b[1m79s\u001b[0m 5ms/step - accuracy: 0.9997 - loss: 9.0166e-04 - val_accuracy: 0.9996 - val_loss: 0.0013\n",
      "Epoch 13/50\n",
      "\u001b[1m14649/14649\u001b[0m \u001b[32m━━━━━━━━━━━━━━━━━━━━\u001b[0m\u001b[37m\u001b[0m \u001b[1m79s\u001b[0m 5ms/step - accuracy: 0.9997 - loss: 8.4049e-04 - val_accuracy: 1.0000 - val_loss: 2.5622e-04\n",
      "Epoch 14/50\n",
      "\u001b[1m14649/14649\u001b[0m \u001b[32m━━━━━━━━━━━━━━━━━━━━\u001b[0m\u001b[37m\u001b[0m \u001b[1m79s\u001b[0m 5ms/step - accuracy: 0.9998 - loss: 6.8857e-04 - val_accuracy: 1.0000 - val_loss: 3.1310e-04\n",
      "Epoch 15/50\n",
      "\u001b[1m14649/14649\u001b[0m \u001b[32m━━━━━━━━━━━━━━━━━━━━\u001b[0m\u001b[37m\u001b[0m \u001b[1m79s\u001b[0m 5ms/step - accuracy: 0.9998 - loss: 5.9935e-04 - val_accuracy: 1.0000 - val_loss: 3.8576e-04\n",
      "Epoch 16/50\n",
      "\u001b[1m14649/14649\u001b[0m \u001b[32m━━━━━━━━━━━━━━━━━━━━\u001b[0m\u001b[37m\u001b[0m \u001b[1m79s\u001b[0m 5ms/step - accuracy: 0.9999 - loss: 5.0773e-04 - val_accuracy: 0.9999 - val_loss: 2.6866e-04\n",
      "Epoch 17/50\n",
      "\u001b[1m14649/14649\u001b[0m \u001b[32m━━━━━━━━━━━━━━━━━━━━\u001b[0m\u001b[37m\u001b[0m \u001b[1m79s\u001b[0m 5ms/step - accuracy: 0.9998 - loss: 5.6195e-04 - val_accuracy: 0.9999 - val_loss: 5.8409e-04\n",
      "Epoch 18/50\n",
      "\u001b[1m14649/14649\u001b[0m \u001b[32m━━━━━━━━━━━━━━━━━━━━\u001b[0m\u001b[37m\u001b[0m \u001b[1m79s\u001b[0m 5ms/step - accuracy: 0.9998 - loss: 4.9443e-04 - val_accuracy: 1.0000 - val_loss: 3.5734e-05\n",
      "Epoch 19/50\n",
      "\u001b[1m14649/14649\u001b[0m \u001b[32m━━━━━━━━━━━━━━━━━━━━\u001b[0m\u001b[37m\u001b[0m \u001b[1m79s\u001b[0m 5ms/step - accuracy: 0.9999 - loss: 4.6124e-04 - val_accuracy: 0.9999 - val_loss: 2.0527e-04\n",
      "Epoch 20/50\n",
      "\u001b[1m14649/14649\u001b[0m \u001b[32m━━━━━━━━━━━━━━━━━━━━\u001b[0m\u001b[37m\u001b[0m \u001b[1m80s\u001b[0m 5ms/step - accuracy: 0.9999 - loss: 4.5311e-04 - val_accuracy: 1.0000 - val_loss: 9.4970e-05\n",
      "Epoch 21/50\n",
      "\u001b[1m14649/14649\u001b[0m \u001b[32m━━━━━━━━━━━━━━━━━━━━\u001b[0m\u001b[37m\u001b[0m \u001b[1m80s\u001b[0m 5ms/step - accuracy: 0.9999 - loss: 3.6977e-04 - val_accuracy: 0.9999 - val_loss: 2.2294e-04\n",
      "Epoch 22/50\n",
      "\u001b[1m14649/14649\u001b[0m \u001b[32m━━━━━━━━━━━━━━━━━━━━\u001b[0m\u001b[37m\u001b[0m \u001b[1m80s\u001b[0m 5ms/step - accuracy: 0.9999 - loss: 4.0029e-04 - val_accuracy: 1.0000 - val_loss: 1.0188e-04\n",
      "Epoch 23/50\n",
      "\u001b[1m14649/14649\u001b[0m \u001b[32m━━━━━━━━━━━━━━━━━━━━\u001b[0m\u001b[37m\u001b[0m \u001b[1m80s\u001b[0m 5ms/step - accuracy: 0.9999 - loss: 4.0350e-04 - val_accuracy: 1.0000 - val_loss: 2.7750e-04\n",
      "Epoch 24/50\n",
      "\u001b[1m14649/14649\u001b[0m \u001b[32m━━━━━━━━━━━━━━━━━━━━\u001b[0m\u001b[37m\u001b[0m \u001b[1m80s\u001b[0m 5ms/step - accuracy: 0.9999 - loss: 4.1573e-04 - val_accuracy: 1.0000 - val_loss: 5.6131e-05\n",
      "Epoch 25/50\n",
      "\u001b[1m14649/14649\u001b[0m \u001b[32m━━━━━━━━━━━━━━━━━━━━\u001b[0m\u001b[37m\u001b[0m \u001b[1m81s\u001b[0m 6ms/step - accuracy: 0.9999 - loss: 3.9599e-04 - val_accuracy: 1.0000 - val_loss: 1.9367e-04\n",
      "Epoch 26/50\n",
      "\u001b[1m14649/14649\u001b[0m \u001b[32m━━━━━━━━━━━━━━━━━━━━\u001b[0m\u001b[37m\u001b[0m \u001b[1m82s\u001b[0m 6ms/step - accuracy: 0.9999 - loss: 2.8343e-04 - val_accuracy: 1.0000 - val_loss: 8.4751e-05\n",
      "Epoch 27/50\n",
      "\u001b[1m14649/14649\u001b[0m \u001b[32m━━━━━━━━━━━━━━━━━━━━\u001b[0m\u001b[37m\u001b[0m \u001b[1m82s\u001b[0m 6ms/step - accuracy: 0.9999 - loss: 4.0149e-04 - val_accuracy: 0.9999 - val_loss: 2.9407e-04\n",
      "Epoch 28/50\n",
      "\u001b[1m14649/14649\u001b[0m \u001b[32m━━━━━━━━━━━━━━━━━━━━\u001b[0m\u001b[37m\u001b[0m \u001b[1m81s\u001b[0m 6ms/step - accuracy: 0.9999 - loss: 2.8788e-04 - val_accuracy: 0.9999 - val_loss: 1.9774e-04\n",
      "Epoch 29/50\n",
      "\u001b[1m14649/14649\u001b[0m \u001b[32m━━━━━━━━━━━━━━━━━━━━\u001b[0m\u001b[37m\u001b[0m \u001b[1m82s\u001b[0m 6ms/step - accuracy: 0.9999 - loss: 2.8214e-04 - val_accuracy: 0.9987 - val_loss: 0.0040\n",
      "Epoch 30/50\n",
      "\u001b[1m14649/14649\u001b[0m \u001b[32m━━━━━━━━━━━━━━━━━━━━\u001b[0m\u001b[37m\u001b[0m \u001b[1m83s\u001b[0m 6ms/step - accuracy: 0.9999 - loss: 3.6106e-04 - val_accuracy: 1.0000 - val_loss: 1.0016e-04\n",
      "Epoch 31/50\n",
      "\u001b[1m14649/14649\u001b[0m \u001b[32m━━━━━━━━━━━━━━━━━━━━\u001b[0m\u001b[37m\u001b[0m \u001b[1m83s\u001b[0m 6ms/step - accuracy: 0.9999 - loss: 3.5647e-04 - val_accuracy: 1.0000 - val_loss: 1.4217e-04\n",
      "Epoch 32/50\n",
      "\u001b[1m14649/14649\u001b[0m \u001b[32m━━━━━━━━━━━━━━━━━━━━\u001b[0m\u001b[37m\u001b[0m \u001b[1m84s\u001b[0m 6ms/step - accuracy: 0.9999 - loss: 3.2121e-04 - val_accuracy: 0.9998 - val_loss: 5.6545e-04\n",
      "Epoch 33/50\n",
      "\u001b[1m14649/14649\u001b[0m \u001b[32m━━━━━━━━━━━━━━━━━━━━\u001b[0m\u001b[37m\u001b[0m \u001b[1m84s\u001b[0m 6ms/step - accuracy: 0.9999 - loss: 2.4159e-04 - val_accuracy: 1.0000 - val_loss: 1.2345e-04\n",
      "Epoch 34/50\n",
      "\u001b[1m14649/14649\u001b[0m \u001b[32m━━━━━━━━━━━━━━━━━━━━\u001b[0m\u001b[37m\u001b[0m \u001b[1m84s\u001b[0m 6ms/step - accuracy: 0.9999 - loss: 2.8183e-04 - val_accuracy: 1.0000 - val_loss: 1.5156e-04\n",
      "Epoch 35/50\n",
      "\u001b[1m14649/14649\u001b[0m \u001b[32m━━━━━━━━━━━━━━━━━━━━\u001b[0m\u001b[37m\u001b[0m \u001b[1m82s\u001b[0m 6ms/step - accuracy: 0.9999 - loss: 2.4033e-04 - val_accuracy: 0.9999 - val_loss: 1.9341e-04\n",
      "Epoch 36/50\n",
      "\u001b[1m14649/14649\u001b[0m \u001b[32m━━━━━━━━━━━━━━━━━━━━\u001b[0m\u001b[37m\u001b[0m \u001b[1m83s\u001b[0m 6ms/step - accuracy: 0.9999 - loss: 2.2503e-04 - val_accuracy: 1.0000 - val_loss: 7.5297e-05\n",
      "Epoch 37/50\n",
      "\u001b[1m14649/14649\u001b[0m \u001b[32m━━━━━━━━━━━━━━━━━━━━\u001b[0m\u001b[37m\u001b[0m \u001b[1m84s\u001b[0m 6ms/step - accuracy: 0.9999 - loss: 2.5878e-04 - val_accuracy: 1.0000 - val_loss: 7.0634e-05\n",
      "Epoch 38/50\n",
      "\u001b[1m14649/14649\u001b[0m \u001b[32m━━━━━━━━━━━━━━━━━━━━\u001b[0m\u001b[37m\u001b[0m \u001b[1m84s\u001b[0m 6ms/step - accuracy: 0.9999 - loss: 2.7400e-04 - val_accuracy: 1.0000 - val_loss: 5.4064e-05\n",
      "Epoch 39/50\n",
      "\u001b[1m14649/14649\u001b[0m \u001b[32m━━━━━━━━━━━━━━━━━━━━\u001b[0m\u001b[37m\u001b[0m \u001b[1m84s\u001b[0m 6ms/step - accuracy: 0.9999 - loss: 2.3061e-04 - val_accuracy: 1.0000 - val_loss: 6.7867e-05\n",
      "Epoch 40/50\n",
      "\u001b[1m14649/14649\u001b[0m \u001b[32m━━━━━━━━━━━━━━━━━━━━\u001b[0m\u001b[37m\u001b[0m \u001b[1m84s\u001b[0m 6ms/step - accuracy: 0.9999 - loss: 2.3257e-04 - val_accuracy: 1.0000 - val_loss: 1.5667e-04\n",
      "Epoch 41/50\n",
      "\u001b[1m14649/14649\u001b[0m \u001b[32m━━━━━━━━━━━━━━━━━━━━\u001b[0m\u001b[37m\u001b[0m \u001b[1m84s\u001b[0m 6ms/step - accuracy: 0.9999 - loss: 2.9937e-04 - val_accuracy: 0.9999 - val_loss: 5.6867e-04\n",
      "Epoch 42/50\n",
      "\u001b[1m14649/14649\u001b[0m \u001b[32m━━━━━━━━━━━━━━━━━━━━\u001b[0m\u001b[37m\u001b[0m \u001b[1m84s\u001b[0m 6ms/step - accuracy: 0.9999 - loss: 2.4125e-04 - val_accuracy: 1.0000 - val_loss: 7.7934e-05\n",
      "Epoch 43/50\n",
      "\u001b[1m14649/14649\u001b[0m \u001b[32m━━━━━━━━━━━━━━━━━━━━\u001b[0m\u001b[37m\u001b[0m \u001b[1m86s\u001b[0m 6ms/step - accuracy: 0.9999 - loss: 2.1038e-04 - val_accuracy: 1.0000 - val_loss: 2.1769e-04\n",
      "Epoch 44/50\n",
      "\u001b[1m14649/14649\u001b[0m \u001b[32m━━━━━━━━━━━━━━━━━━━━\u001b[0m\u001b[37m\u001b[0m \u001b[1m85s\u001b[0m 6ms/step - accuracy: 0.9999 - loss: 2.3603e-04 - val_accuracy: 1.0000 - val_loss: 1.5256e-04\n",
      "Epoch 45/50\n",
      "\u001b[1m14649/14649\u001b[0m \u001b[32m━━━━━━━━━━━━━━━━━━━━\u001b[0m\u001b[37m\u001b[0m \u001b[1m85s\u001b[0m 6ms/step - accuracy: 0.9999 - loss: 2.6087e-04 - val_accuracy: 1.0000 - val_loss: 1.1913e-04\n",
      "Epoch 46/50\n",
      "\u001b[1m14649/14649\u001b[0m \u001b[32m━━━━━━━━━━━━━━━━━━━━\u001b[0m\u001b[37m\u001b[0m \u001b[1m85s\u001b[0m 6ms/step - accuracy: 0.9999 - loss: 2.0155e-04 - val_accuracy: 1.0000 - val_loss: 7.6055e-05\n",
      "Epoch 47/50\n",
      "\u001b[1m14649/14649\u001b[0m \u001b[32m━━━━━━━━━━━━━━━━━━━━\u001b[0m\u001b[37m\u001b[0m \u001b[1m85s\u001b[0m 6ms/step - accuracy: 1.0000 - loss: 1.6770e-04 - val_accuracy: 1.0000 - val_loss: 7.9218e-05\n",
      "Epoch 48/50\n",
      "\u001b[1m14649/14649\u001b[0m \u001b[32m━━━━━━━━━━━━━━━━━━━━\u001b[0m\u001b[37m\u001b[0m \u001b[1m83s\u001b[0m 6ms/step - accuracy: 0.9999 - loss: 1.9234e-04 - val_accuracy: 1.0000 - val_loss: 6.2087e-05\n",
      "Epoch 49/50\n",
      "\u001b[1m14649/14649\u001b[0m \u001b[32m━━━━━━━━━━━━━━━━━━━━\u001b[0m\u001b[37m\u001b[0m \u001b[1m84s\u001b[0m 6ms/step - accuracy: 1.0000 - loss: 2.0552e-04 - val_accuracy: 1.0000 - val_loss: 9.7446e-05\n",
      "Epoch 50/50\n",
      "\u001b[1m14649/14649\u001b[0m \u001b[32m━━━━━━━━━━━━━━━━━━━━\u001b[0m\u001b[37m\u001b[0m \u001b[1m84s\u001b[0m 6ms/step - accuracy: 0.9999 - loss: 2.3096e-04 - val_accuracy: 1.0000 - val_loss: 1.1345e-04\n"
     ]
    }
   ],
   "source": [
    "# # Step 13: Train the Model with Class Weights\n",
    "# history = model.fit(\n",
    "#     X_train_res, \n",
    "#     y_train_cat, \n",
    "#     epochs=50, \n",
    "#     batch_size=128, \n",
    "#     validation_split=0.2, \n",
    "#     class_weight=class_weight_dict\n",
    "# )\n",
    "\n",
    "# Step 12: Select a Subset of the Training Data (10%)\n",
    "subset_size = int(1* len(X_train_res))\n",
    "X_train_subset = X_train_res[:subset_size]\n",
    "y_train_subset = y_train_cat[:subset_size]\n",
    "\n",
    "# Step 14: Train the Model with Class Weights on the Subset\n",
    "history = model.fit(\n",
    "    X_train_subset, \n",
    "    y_train_subset, \n",
    "    epochs=50, \n",
    "\n",
    "\n",
    "    \n",
    "    batch_size=128, \n",
    "    validation_split=0.2, \n",
    "    class_weight=class_weight_dict\n",
    ")\n"
   ]
  },
  {
   "cell_type": "code",
   "execution_count": 48,
   "metadata": {},
   "outputs": [
    {
     "data": {
      "image/png": "[encoded data removed]",
      "text/plain": [
       "<Figure size 1200x500 with 2 Axes>"
      ]
     },
     "metadata": {},
     "output_type": "display_data"
    },
    {
     "name": "stdout",
     "output_type": "stream",
     "text": [
      "Scaler saved as scaler_sub_100per.pkl\n",
      "Label encoder saved as label_encoder_sub_100per.pkl\n",
      "Class weights saved as class_weights_sub_100per.json\n",
      "Training metrics saved as training_metrics_sub_100per.csv\n"
     ]
    }
   ],
   "source": [
    "# Step 14: Plot Training and Validation Accuracy and Loss\n",
    "plt.figure(figsize=(12, 5))\n",
    "\n",
    "# Plot Accuracy\n",
    "plt.subplot(1, 2, 1)\n",
    "plt.plot(history.history['accuracy'], label='Train Accuracy')\n",
    "plt.plot(history.history['val_accuracy'], label='Val Accuracy')\n",
    "plt.xlabel('Epoch')\n",
    "plt.ylabel('Accuracy')\n",
    "plt.legend()\n",
    "plt.title('Accuracy vs. Epochs')\n",
    "plt.savefig('accuracy_vs_epochs.png')  # Save the accuracy plot as PNG\n",
    "\n",
    "# Plot Loss\n",
    "plt.subplot(1, 2, 2)\n",
    "plt.plot(history.history['loss'], label='Train Loss')\n",
    "plt.plot(history.history['val_loss'], label='Val Loss')\n",
    "plt.xlabel('Epoch')\n",
    "plt.ylabel('Loss')\n",
    "plt.legend()\n",
    "plt.title('Loss vs. Epochs')\n",
    "plt.savefig('loss_vs_epochs.png')  # Save the loss plot as PNG\n",
    "\n",
    "plt.show()\n",
    "\n",
    "# Define the parameter x\n",
    "x = 'sub_100per'  # Change this parameter to update the file names\n",
    "\n",
    "# Create a directory for saving files\n",
    "save_dir = f'saved_models/{x}'\n",
    "os.makedirs(save_dir, exist_ok=True)\n",
    "\n",
    "# Save the model in the latest Keras format\n",
    "model.save(os.path.join(save_dir, f'lstm_ddos_model_{x}.keras'))\n",
    "\n",
    "# Save the scaler\n",
    "joblib.dump(scaler, os.path.join(save_dir, f'scaler_{x}.pkl'))\n",
    "print(f\"Scaler saved as scaler_{x}.pkl\")\n",
    "\n",
    "# Save the label encoder\n",
    "joblib.dump(le, os.path.join(save_dir, f'label_encoder_{x}.pkl'))\n",
    "print(f\"Label encoder saved as label_encoder_{x}.pkl\")\n",
    "\n",
    "# Convert class weights keys to strings\n",
    "class_weight_dict_str = {str(k): v for k, v in class_weight_dict.items()}\n",
    "\n",
    "# Save the class weights\n",
    "with open(os.path.join(save_dir, f'class_weights_{x}.json'), 'w') as f:\n",
    "    json.dump(class_weight_dict_str, f)\n",
    "print(f\"Class weights saved as class_weights_{x}.json\")\n",
    "\n",
    "# Save the training and validation metrics to a CSV file\n",
    "metrics_df = pd.DataFrame(history.history)\n",
    "metrics_df.to_csv(os.path.join(save_dir, f'training_metrics_{x}.csv'), index=False)\n",
    "print(f\"Training metrics saved as training_metrics_{x}.csv\")"
   ]
  },
  {
   "cell_type": "code",
   "execution_count": 49,
   "metadata": {},
   "outputs": [
    {
     "name": "stdout",
     "output_type": "stream",
     "text": [
      "\u001b[1m6508/6508\u001b[0m \u001b[32m━━━━━━━━━━━━━━━━━━━━\u001b[0m\u001b[37m\u001b[0m \u001b[1m9s\u001b[0m 1ms/step - accuracy: 0.9946 - loss: 0.0503\n",
      "Test Loss: 0.06769964843988419 - Test Accuracy: 0.9926190376281738\n"
     ]
    }
   ],
   "source": [
    "# Ensure the input data is reshaped to match the expected input shape of the model\n",
    "X_test_reshaped = X_test_seq.reshape((X_test_seq.shape[0], window_size, n_features))\n",
    "\n",
    "# Evaluate the model on the test set\n",
    "test_loss, test_accuracy = model.evaluate(X_test_reshaped, y_test_cat)\n",
    "print(f'Test Loss: {test_loss} - Test Accuracy: {test_accuracy}')\n",
    "\n",
    "# Save the test metrics to a text file\n",
    "with open('test_metrics_sub_100per.txt', 'w') as f:\n",
    "    f.write(f'Test Loss: {test_loss}\\n')\n",
    "    f.write(f'Test Accuracy: {test_accuracy}\\n')"
   ]
  },
  {
   "cell_type": "code",
   "execution_count": null,
   "metadata": {},
   "outputs": [],
   "source": []
  }
 ],
 "metadata": {
  "kernelspec": {
   "display_name": "tf-gpu",
   "language": "python",
   "name": "python3"
  },
  "language_info": {
   "codemirror_mode": {
    "name": "ipython",
    "version": 3
   },
   "file_extension": ".py",
   "mimetype": "text/x-python",
   "name": "python",
   "nbconvert_exporter": "python",
   "pygments_lexer": "ipython3",
   "version": "3.11.2"
  }
 },
 "nbformat": 4,
 "nbformat_minor": 2
}
