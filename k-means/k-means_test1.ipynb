{
 "cells": [
  {
   "cell_type": "code",
   "execution_count": null,
   "metadata": {},
   "outputs": [],
   "source": [
    "v"
   ]
  },
  {
   "cell_type": "code",
   "execution_count": null,
   "metadata": {},
   "outputs": [],
   "source": [
    "# %%\n",
    "# Import necessary libraries\n",
    "import pandas as pd\n",
    "import numpy as np\n",
    "from sklearn.preprocessing import StandardScaler\n",
    "from sklearn.decomposition import PCA\n",
    "from sklearn.cluster import KMeans\n",
    "from sklearn.metrics import silhouette_score\n",
    "import matplotlib.pyplot as plt\n",
    "import seaborn as sns"
   ]
  },
  {
   "cell_type": "code",
   "execution_count": null,
   "metadata": {},
   "outputs": [],
   "source": [
    "# %%\n",
    "# Load the dataset\n",
    "data = pd.read_csv(\"/Users/rooj/Documents/RP3-Main/RP3-Data/CSE-CIC-IDS2018/DoS-Related/02-15-2018.csv\")  # Update with your dataset's path\n",
    "\n",
    "# Preview the data\n",
    "print(data.head())\n",
    "print(data.info())\n",
    "print(data['Label'].value_counts())"
   ]
  },
  {
   "cell_type": "code",
   "execution_count": null,
   "metadata": {},
   "outputs": [],
   "source": [
    "# %%\n",
    "# Encode the Labels\n",
    "label_mapping = {'Benign': 0, 'DoS attacks-GoldenEye': 1, 'DoS attacks-Slowloris': 2}\n",
    "data['Label'] = data['Label'].map(label_mapping)\n",
    "\n",
    "# Filter for relevant classes\n",
    "data = data[data['Label'].isin([0, 1, 2])]\n",
    "print(\"Encoded class distribution:\\n\", data['Label'].value_counts())\n",
    "\n",
    "# %%\n",
    "# Feature Selection\n",
    "selected_features = [\n",
    "    'Flow Duration', 'Fwd Pkt Len Mean', 'Bwd Pkt Len Std', \n",
    "    'Pkt Size Avg', 'Flow IAT Mean'\n",
    "]\n",
    "X = data[selected_features]"
   ]
  },
  {
   "cell_type": "code",
   "execution_count": null,
   "metadata": {},
   "outputs": [],
   "source": [
    "# %%\n",
    "# Handle missing values\n",
    "X = X.dropna()\n",
    "\n",
    "# Standardize the features\n",
    "scaler = StandardScaler()\n",
    "X_scaled = scaler.fit_transform(X)\n",
    "\n",
    "# %%\n",
    "# Apply PCA\n",
    "pca = PCA(n_components=2)  # Reduce to 2 components for visualization\n",
    "X_pca = pca.fit_transform(X_scaled)\n",
    "print(f'Explained variance ratio: {pca.explained_variance_ratio_}')"
   ]
  },
  {
   "cell_type": "code",
   "execution_count": null,
   "metadata": {},
   "outputs": [],
   "source": [
    "# %%\n",
    "# Determine the optimal number of clusters using the Elbow Method\n",
    "wcss = []\n",
    "for i in range(1, 11):\n",
    "    kmeans = KMeans(n_clusters=i, init='k-means++', random_state=42)\n",
    "    kmeans.fit(X_pca)\n",
    "    wcss.append(kmeans.inertia_)\n",
    "\n",
    "# Plot the Elbow graph\n",
    "plt.figure(figsize=(8, 5))\n",
    "plt.plot(range(1, 11), wcss, marker='o', linestyle='--')\n",
    "plt.title('Elbow Method for Optimal K')\n",
    "plt.xlabel('Number of clusters')\n",
    "plt.ylabel('WCSS')\n",
    "plt.show()\n"
   ]
  },
  {
   "cell_type": "code",
   "execution_count": null,
   "metadata": {},
   "outputs": [],
   "source": [
    "# %%\n",
    "# From the Elbow plot, choose the optimal number of clusters, e.g., 3\n",
    "optimal_clusters = 3\n",
    "kmeans = KMeans(n_clusters=optimal_clusters, init='k-means++', random_state=42)\n",
    "cluster_labels = kmeans.fit_predict(X_pca)\n",
    "\n",
    "# Add cluster labels to the original data\n",
    "data['Cluster'] = cluster_labels"
   ]
  },
  {
   "cell_type": "code",
   "execution_count": null,
   "metadata": {},
   "outputs": [],
   "source": [
    "# %%\n",
    "# Evaluate clustering performance using Silhouette Score\n",
    "sil_score = silhouette_score(X_pca, cluster_labels)\n",
    "print(f'Silhouette Score: {sil_score}')\n",
    "\n",
    "# %%\n",
    "# Visualize the clusters\n",
    "plt.figure(figsize=(10, 7))\n",
    "sns.scatterplot(x=X_pca[:, 0], y=X_pca[:, 1], hue=cluster_labels, palette='viridis', s=50)\n",
    "plt.title('Clusters after K-Means with PCA')\n",
    "plt.xlabel('Principal Component 1')\n",
    "plt.ylabel('Principal Component 2')\n",
    "plt.legend(title='Cluster')\n",
    "plt.show()\n",
    "\n",
    "# %%\n",
    "# Analyze the composition of each cluster\n",
    "cluster_composition = data.groupby('Cluster')['Label'].value_counts(normalize=True).unstack().fillna(0)\n",
    "print(cluster_composition)\n",
    "\n",
    "# %%\n",
    "# Save the PCA and KMeans models for future use\n",
    "import joblib\n",
    "joblib.dump(pca, 'pca_model.pkl')\n",
    "joblib.dump(kmeans, 'kmeans_model.pkl')\n",
    "joblib.dump(scaler, 'scaler.pkl')\n",
    "print(\"Models saved successfully.\")"
   ]
  }
 ],
 "metadata": {
  "kernelspec": {
   "display_name": "base",
   "language": "python",
   "name": "python3"
  },
  "language_info": {
   "name": "python",
   "version": "3.11.5"
  }
 },
 "nbformat": 4,
 "nbformat_minor": 2
}
